{
  "nbformat": 4,
  "nbformat_minor": 0,
  "metadata": {
    "colab": {
      "name": "Construction Herustic",
      "provenance": [],
      "collapsed_sections": []
    },
    "kernelspec": {
      "name": "python3",
      "display_name": "Python 3"
    },
    "language_info": {
      "name": "python"
    }
  },
  "cells": [
    {
      "cell_type": "code",
      "metadata": {
        "id": "ZLgvjX0LLmRi"
      },
      "source": [
        "from collections import defaultdict\n",
        "import random\n",
        "import math\n",
        "import timeit\n",
        "\n",
        "\n",
        "class Graph():\n",
        "    def __init__(self):\n",
        "        \"\"\"\n",
        "        self.edges is a dict of all possible next nodes\n",
        "        e.g. {'X': ['A', 'B', 'C', 'E'], ...}\n",
        "        self.weights has all the weights between two nodes,\n",
        "        with the two nodes as a tuple as the key\n",
        "        e.g. {('X', 'A'): 7, ('X', 'B'): 2, ...}\n",
        "        \"\"\"\n",
        "        self.edges = defaultdict(list)\n",
        "        self.weights = {}\n",
        "    \n",
        "    def add_edge(self, from_node, to_node, weight):\n",
        "        # Note: assumes edges are bi-directional\n",
        "        self.edges[from_node].append(to_node)\n",
        "        self.edges[to_node].append(from_node)\n",
        "        self.weights[(from_node, to_node)] = weight\n",
        "        self.weights[(to_node, from_node)] = weight"
      ],
      "execution_count": 9,
      "outputs": []
    },
    {
      "cell_type": "code",
      "metadata": {
        "id": "kpv3VHBVLqlG"
      },
      "source": [
        "graph = Graph()\n"
      ],
      "execution_count": 10,
      "outputs": []
    },
    {
      "cell_type": "code",
      "metadata": {
        "id": "U2RQZlrPLsO0"
      },
      "source": [
        "edges = [\n",
        "('A','B',267),\n",
        "('A','C',321),\n",
        "('A','E',159),\n",
        "('B','E',231),\n",
        "('B','G',167),\n",
        "('C','K',254),\n",
        "('C','D',216),\n",
        "('D','F',120),\n",
        "('D','E',70),\n",
        "('F','G',170),\n",
        "('F','I',76),\n",
        "('G','H',181),\n",
        "('H','J',131),\n",
        "('I','J',67),\n",
        "('I','L',148),\n",
        "('J','M',93),\n",
        "('J','N',44),\n",
        "('K','L',58),\n",
        "('L','I',148),\n",
        "('L','N',161),\n",
        "('L','O',105),\n",
        "('M','N',60),\n",
        "('M','S',192),\n",
        "('M','P',97),\n",
        "('N','P',67),\n",
        "('N','O',217),\n",
        "('O','P',157),\n",
        "('O','Q',60),\n",
        "('O','U',175),\n",
        "('P','R',77),\n",
        "('R','S',133),\n",
        "('R','U',75),\n",
        "('S','W',201),\n",
        "('S','X',101),\n",
        "('T','Y',42),\n",
        "('U','V',117),\n",
        "('U','W',101),\n",
        "('V','Y',56),\n",
        "('W','X',230),\n",
        "('W','AA',79),\n",
        "('X','W',230),\n",
        "('Y','Z',37),\n",
        "('Z','AA',131),\n",
        "]\n",
        "\n",
        "for edge in edges:\n",
        "    graph.add_edge(*edge)"
      ],
      "execution_count": 11,
      "outputs": []
    },
    {
      "cell_type": "code",
      "metadata": {
        "id": "f_JYg0tgLztx"
      },
      "source": [
        "# referenced code from https://benalexkeen.com/implementing-djikstras-shortest-path-algorithm-with-python/\n",
        "\n",
        "def dijsktra(graph, initial, end):\n",
        "    # shortest paths is a dict of nodes\n",
        "    # whose value is a tuple of (previous node, weight)\n",
        "    shortest_paths = {initial: (None, 0)}\n",
        "    current_node = initial\n",
        "    visited = set()\n",
        "    \n",
        "    while current_node != end:\n",
        "        visited.add(current_node)\n",
        "        destinations = graph.edges[current_node]\n",
        "        weight_to_current_node = shortest_paths[current_node][1]\n",
        "        for next_node in destinations:\n",
        "            weight = graph.weights[(current_node, next_node)] + weight_to_current_node       \n",
        "            if next_node not in shortest_paths:\n",
        "                shortest_paths[next_node] = (current_node, weight)\n",
        "            else:\n",
        "                current_shortest_weight = shortest_paths[next_node][1]\n",
        "                if current_shortest_weight > weight:\n",
        "                    shortest_paths[next_node] = (current_node, weight)\n",
        "        \n",
        "        next_destinations = {node: shortest_paths[node] for node in shortest_paths if node not in visited}\n",
        "        if not next_destinations:\n",
        "            return \"Route Not Possible\"\n",
        "        # next node is the destination with the lowest weight\n",
        "        current_node = min(next_destinations, key=lambda k: next_destinations[k][1])\n",
        "    \n",
        "    # Work back through destinations in shortest path\n",
        "    path = []\n",
        "    while current_node is not None:\n",
        "        path.append(current_node)\n",
        "        next_node = shortest_paths[current_node][0]\n",
        "        current_node = next_node\n",
        "    # Reverse path\n",
        "    path = path[::-1]\n",
        "    return path\n"
      ],
      "execution_count": 12,
      "outputs": []
    },
    {
      "cell_type": "code",
      "metadata": {
        "colab": {
          "base_uri": "https://localhost:8080/"
        },
        "id": "LARrc5Y-L2s_",
        "outputId": "14daf371-6284-4da1-9fd4-e847f38fb851"
      },
      "source": [
        "\n",
        "# need to add all posible distances ij\n",
        "distances ={\n",
        "('A','B'):267,\n",
        "('A','C'):321,\n",
        "('A','E'):159,\n",
        "('B','E'):231,\n",
        "('B','G'):167,\n",
        "('C','K'):254,\n",
        "('C','D'):216,\n",
        "('D','F'):120,\n",
        "('D','E'):70,\n",
        "('F','G'):170,\n",
        "('F','I'):76,\n",
        "('G','H'):181,\n",
        "('H','J'):131,\n",
        "('I','J'):67,\n",
        "('I','L'):148,\n",
        "('J','M'):93,\n",
        "('J','N'):44,\n",
        "('K','L'):58,\n",
        "('L','I'):148,\n",
        "('L','N'):161,\n",
        "('L','O'):105,\n",
        "('M','N'):60,\n",
        "('M','S'):192,\n",
        "('M','P'):97,\n",
        "('N','P'):67,\n",
        "('N','O'):217,\n",
        "('O','P'):157,\n",
        "('O','Q'):60,\n",
        "('O','U'):175,\n",
        "('P','R'):77,\n",
        "('R','S'):133,\n",
        "('R','U'):75,\n",
        "('S','W'):201,\n",
        "('S','X'):101,\n",
        "('T','Y'):42,\n",
        "('U','V'):117,\n",
        "('U','W'):101,\n",
        "('V','Y'):56,\n",
        "('W','X'):230,\n",
        "('W','AA'):79,\n",
        "('X','W'):230,\n",
        "('Y','Z'):37,\n",
        "('Z','AA'):131,\n",
        "('B','A'):267,\n",
        "('C','A'):321,\n",
        "('E','A'):159,\n",
        "('E','B'):231,\n",
        "('G','B'):167,\n",
        "('K','C'):254,\n",
        "('D','C'):216,\n",
        "('F','D'):120,\n",
        "('E','D'):70,\n",
        "('G','F'):170,\n",
        "('I','F'):76,\n",
        "('H','G'):181,\n",
        "('J','H'):131,\n",
        "('J','I'):67,\n",
        "('L','I'):148,\n",
        "('M','J'):93,\n",
        "('N','J'):44,\n",
        "('L','K'):58,\n",
        "('I','L'):148,\n",
        "('N','L'):161,\n",
        "('O','L'):105,\n",
        "('N','M'):60,\n",
        "('S','M'):192,\n",
        "('P','M'):97,\n",
        "('P','N'):67,\n",
        "('O','N'):217,\n",
        "('P','O'):157,\n",
        "('Q','O'):60,\n",
        "('U','O'):175,\n",
        "('R','P'):77,\n",
        "('S','R'):133,\n",
        "('U','R'):75,\n",
        "('W','S'):201,\n",
        "('X','S'):101,\n",
        "('Y','T'):42,\n",
        "('V','U'):117,\n",
        "('W','U'):101,\n",
        "('Y','V'):56,\n",
        "('X','W'):230,\n",
        "('AA','W'):79,\n",
        "('W','X'):230,\n",
        "('Z','Y'):37,\n",
        "('AA','Z'):131,\n",
        "}\n",
        "\n",
        "#cost of stations:\n",
        "cost =  {'A' :51138, 'B' :35427, 'C' :99794, 'D' :102517, 'E' :94415, 'F' :75538, 'G' :56964, 'H' :147217, 'I' :67104, 'J' :71847, 'K' :86912, 'L' :86465, 'M' :166565, 'N' :88811, 'O' :171393, 'P' :116511, 'Q' :348047, 'R' :269207, 'S' :22297, 'T' :148218, 'U' :107293, 'V' :181531, 'W' :99033, 'X' :50193, 'Y' :465524, 'Z' :107870, 'AA' :104445}\n",
        "\n",
        "# get shortest distance between A-E as test \n",
        "shortest = dijsktra(graph, 'A', 'C')\n",
        "print(shortest)\n",
        "\n",
        "\n",
        "#distance of shortest path\n",
        "def distance(shortest):\n",
        "  distance = 0\n",
        "  for i in range(len(shortest)-1):\n",
        "   temp =  distances.get((shortest[i],shortest[i+1]))\n",
        "   distance = distance + temp\n",
        "  return distance\n",
        "distance(shortest)"
      ],
      "execution_count": 13,
      "outputs": [
        {
          "output_type": "stream",
          "name": "stdout",
          "text": [
            "['A', 'C']\n"
          ]
        },
        {
          "output_type": "execute_result",
          "data": {
            "text/plain": [
              "321"
            ]
          },
          "metadata": {},
          "execution_count": 13
        }
      ]
    },
    {
      "cell_type": "code",
      "metadata": {
        "colab": {
          "base_uri": "https://localhost:8080/"
        },
        "id": "NAFOPRRPa_KM",
        "outputId": "b957014b-4625-417e-d887-4a598d970410"
      },
      "source": [
        "\n",
        "\n",
        "# range of EV\n",
        "R = 400\n",
        "\n",
        "#Candidate stations\n",
        "Candidate = [] #all possible solutions\n",
        "\n",
        "#get candidate list\n",
        "def get_Can_list(path):\n",
        "  shortest = path\n",
        "  sum_distance = 0\n",
        "  i=0\n",
        "  R = 400\n",
        "\n",
        "  while i in range(len(shortest)-1):\n",
        "    start = 0\n",
        "    arc =  distances.get((shortest[i],shortest[i+1])) \n",
        "    R = R - arc\n",
        "    if R == 0:\n",
        "      #if shortest[i+1] not in Candidate:\n",
        "        Candidate.append(shortest[i+1])\n",
        "        R = 400\n",
        "        i = i+1\n",
        "      # print(i)\n",
        "    if R < 0:\n",
        "      #if shortest[i] not in Candidate:\n",
        "       Candidate.append(shortest[i])\n",
        "       R = 400-arc\n",
        "       i = i+1    \n",
        "      # print(i)     \n",
        "    else:\n",
        "      #do nothing\n",
        "      i = i + 1\n",
        "  #print(Candidate)\n",
        "  return Candidate\n",
        "\n",
        "#testing a route to see if the functions work properly\n",
        "path_test = dijsktra(graph, 'A', 'K')\n",
        "print(path_test)\n",
        "get_Can_list(path_test)\n",
        "print(Candidate)\n",
        "\n",
        "# number of stations needed in a shortest path, starting with full battery R, (distance - R)/R\n",
        "num_stations = (distance(path_test) - R)/R\n",
        "\n",
        "#round up\n",
        "num_stations = math.ceil(num_stations)\n",
        "print(\"STATIONS needed:\",num_stations)\n"
      ],
      "execution_count": 14,
      "outputs": [
        {
          "output_type": "stream",
          "name": "stdout",
          "text": [
            "['A', 'C', 'K']\n",
            "['C']\n",
            "STATIONS needed: 1\n"
          ]
        }
      ]
    },
    {
      "cell_type": "code",
      "metadata": {
        "id": "eIkI51eecRC9"
      },
      "source": [
        ""
      ],
      "execution_count": 14,
      "outputs": []
    },
    {
      "cell_type": "code",
      "metadata": {
        "colab": {
          "base_uri": "https://localhost:8080/"
        },
        "id": "Dk-8DkP98uXE",
        "outputId": "9605f86e-afee-4404-d2a2-c271a6292c1e"
      },
      "source": [
        "\n",
        "#start of the actual calculation\n",
        "start_time = timeit.default_timer()\n",
        "\n",
        "\n",
        "# Shortest path without limit m\n",
        "#change nodes based on Ass.-3 Data.xlsm file\n",
        "nodes = [ 'A', 'B', 'C', 'D', 'E', 'F', 'G', 'H', 'I', 'J', 'K', 'L', 'M', 'N', 'O', 'P', 'Q', 'R', 'S', 'T', 'U', 'V', 'W', 'X', 'Y', 'Z', 'AA']\n",
        "\n",
        "#create empty array for shortest paths\n",
        "paths = []\n",
        "\n",
        "\n",
        "# iterate all m paths, append shortest path to the paths array\n",
        "for i in range(len(nodes)):\n",
        "  start = nodes[i]\n",
        "  for i in range(len(nodes)):\n",
        "    if nodes[i] != start:\n",
        "      end = nodes[i]\n",
        "      shortest = dijsktra(graph, start, end)\n",
        "      #check if shortest path is longer than the range of EV then add to list\n",
        "      if distance(shortest) > R:\n",
        "        paths.append(dijsktra(graph, start, end))\n",
        "        get_Can_list(dijsktra(graph, start, end))\n",
        "      #print(dijsktra(graph, start, end))\n",
        "\n",
        "print(\"Number of shortest paths with distance greater than Range R: \",len(paths))\n",
        "\n",
        "unique_candidate = set(Candidate)\n",
        "print(\"SOLUTION TO THIS PROBLEM\",unique_candidate)"
      ],
      "execution_count": 15,
      "outputs": [
        {
          "output_type": "stream",
          "name": "stdout",
          "text": [
            "Number of shortest paths with distance greater than Range R:  334\n",
            "SOLUTION TO THIS PROBLEM {'P', 'Y', 'S', 'U', 'V', 'K', 'F', 'G', 'H', 'R', 'D', 'E', 'J', 'AA', 'W', 'C', 'N', 'O', 'M', 'B', 'L', 'I'}\n"
          ]
        }
      ]
    },
    {
      "cell_type": "code",
      "metadata": {
        "colab": {
          "base_uri": "https://localhost:8080/"
        },
        "id": "R6YBTFi5a1cr",
        "outputId": "e4863956-e9d0-436b-fc0d-2b5edd4aead1"
      },
      "source": [
        "#get cost:\n",
        "c = 0\n",
        "\n",
        "for s in unique_candidate:\n",
        "  c = c + cost.get(s)\n",
        "\n",
        "print(c)\n",
        "\n",
        "#computation time\n",
        "stop = timeit.default_timer()\n",
        "time = stop- start_time\n",
        "print('Run Time: ', time)  "
      ],
      "execution_count": 16,
      "outputs": [
        {
          "output_type": "stream",
          "name": "stdout",
          "text": [
            "2716810\n",
            "Run Time:  0.11776747400000431\n"
          ]
        }
      ]
    }
  ]
}