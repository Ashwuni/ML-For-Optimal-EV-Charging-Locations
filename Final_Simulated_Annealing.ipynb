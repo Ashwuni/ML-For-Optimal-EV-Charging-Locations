{
  "nbformat": 4,
  "nbformat_minor": 0,
  "metadata": {
    "colab": {
      "name": "Final Simulated Annealing",
      "provenance": []
    },
    "kernelspec": {
      "name": "python3",
      "display_name": "Python 3"
    },
    "language_info": {
      "name": "python"
    }
  },
  "cells": [
    {
      "cell_type": "code",
      "metadata": {
        "id": "ZLgvjX0LLmRi"
      },
      "source": [
        "from collections import defaultdict\n",
        "import random\n",
        "import math\n",
        "import timeit\n",
        "\n",
        "\n",
        "class Graph():\n",
        "    def __init__(self):\n",
        "        \"\"\"\n",
        "        self.edges is a dict of all possible next nodes\n",
        "        e.g. {'X': ['A', 'B', 'C', 'E'], ...}\n",
        "        self.weights has all the weights between two nodes,\n",
        "        with the two nodes as a tuple as the key\n",
        "        e.g. {('X', 'A'): 7, ('X', 'B'): 2, ...}\n",
        "        \"\"\"\n",
        "        self.edges = defaultdict(list)\n",
        "        self.weights = {}\n",
        "    \n",
        "    def add_edge(self, from_node, to_node, weight):\n",
        "        # Note: assumes edges are bi-directional\n",
        "        self.edges[from_node].append(to_node)\n",
        "        self.edges[to_node].append(from_node)\n",
        "        self.weights[(from_node, to_node)] = weight\n",
        "        self.weights[(to_node, from_node)] = weight"
      ],
      "execution_count": null,
      "outputs": []
    },
    {
      "cell_type": "code",
      "metadata": {
        "id": "kpv3VHBVLqlG"
      },
      "source": [
        "graph = Graph()\n"
      ],
      "execution_count": null,
      "outputs": []
    },
    {
      "cell_type": "code",
      "metadata": {
        "id": "U2RQZlrPLsO0"
      },
      "source": [
        "edges = [\n",
        "('A','B',267),\n",
        "('A','C',321),\n",
        "('A','E',159),\n",
        "('B','E',231),\n",
        "('B','G',167),\n",
        "('C','K',254),\n",
        "('C','D',216),\n",
        "('D','F',120),\n",
        "('D','E',70),\n",
        "('F','G',170),\n",
        "('F','I',76),\n",
        "('G','H',181),\n",
        "('H','J',131),\n",
        "('I','J',67),\n",
        "('I','L',148),\n",
        "('J','M',93),\n",
        "('J','N',44),\n",
        "('K','L',58),\n",
        "('L','I',148),\n",
        "('L','N',161),\n",
        "('L','O',105),\n",
        "('M','N',60),\n",
        "('M','S',192),\n",
        "('M','P',97),\n",
        "('N','P',67),\n",
        "('N','O',217),\n",
        "('O','P',157),\n",
        "('O','Q',60),\n",
        "('O','U',175),\n",
        "('P','R',77),\n",
        "('R','S',133),\n",
        "('R','U',75),\n",
        "('S','W',201),\n",
        "('S','X',101),\n",
        "('T','Y',42),\n",
        "('U','V',117),\n",
        "('U','W',101),\n",
        "('V','Y',56),\n",
        "('W','X',230),\n",
        "('W','AA',79),\n",
        "('X','W',230),\n",
        "('Y','Z',37),\n",
        "('Z','AA',131),\n",
        "]\n",
        "for edge in edges:\n",
        "    graph.add_edge(*edge)"
      ],
      "execution_count": null,
      "outputs": []
    },
    {
      "cell_type": "code",
      "metadata": {
        "id": "f_JYg0tgLztx"
      },
      "source": [
        "# referenced function code from https://benalexkeen.com/implementing-djikstras-shortest-path-algorithm-with-python/\n",
        "\n",
        "\n",
        "def dijsktra(graph, initial, end):\n",
        "    # shortest paths is a dict of nodes\n",
        "    # whose value is a tuple of (previous node, weight)\n",
        "    shortest_paths = {initial: (None, 0)}\n",
        "    current_node = initial\n",
        "    visited = set()\n",
        "    \n",
        "    while current_node != end:\n",
        "        visited.add(current_node)\n",
        "        destinations = graph.edges[current_node]\n",
        "        weight_to_current_node = shortest_paths[current_node][1]\n",
        "        for next_node in destinations:\n",
        "            weight = graph.weights[(current_node, next_node)] + weight_to_current_node       \n",
        "            if next_node not in shortest_paths:\n",
        "                shortest_paths[next_node] = (current_node, weight)\n",
        "            else:\n",
        "                current_shortest_weight = shortest_paths[next_node][1]\n",
        "                if current_shortest_weight > weight:\n",
        "                    shortest_paths[next_node] = (current_node, weight)\n",
        "        \n",
        "        next_destinations = {node: shortest_paths[node] for node in shortest_paths if node not in visited}\n",
        "        if not next_destinations:\n",
        "            return \"Route Not Possible\"\n",
        "        # next node is the destination with the lowest weight\n",
        "        current_node = min(next_destinations, key=lambda k: next_destinations[k][1])\n",
        "    \n",
        "    # Work back through destinations in shortest path\n",
        "    path = []\n",
        "    while current_node is not None:\n",
        "        path.append(current_node)\n",
        "        next_node = shortest_paths[current_node][0]\n",
        "        current_node = next_node\n",
        "    # Reverse path\n",
        "    path = path[::-1]\n",
        "    return path\n"
      ],
      "execution_count": null,
      "outputs": []
    },
    {
      "cell_type": "code",
      "metadata": {
        "colab": {
          "base_uri": "https://localhost:8080/"
        },
        "id": "LARrc5Y-L2s_",
        "outputId": "2736395c-4bdc-4262-f7f8-88b61b53e92a"
      },
      "source": [
        "\n",
        "# need to add all posible distances ij\n",
        "distances ={\n",
        "('A','B'):267,\n",
        "('A','C'):321,\n",
        "('A','E'):159,\n",
        "('B','E'):231,\n",
        "('B','G'):167,\n",
        "('C','K'):254,\n",
        "('C','D'):216,\n",
        "('D','F'):120,\n",
        "('D','E'):70,\n",
        "('F','G'):170,\n",
        "('F','I'):76,\n",
        "('G','H'):181,\n",
        "('H','J'):131,\n",
        "('I','J'):67,\n",
        "('I','L'):148,\n",
        "('J','M'):93,\n",
        "('J','N'):44,\n",
        "('K','L'):58,\n",
        "('L','I'):148,\n",
        "('L','N'):161,\n",
        "('L','O'):105,\n",
        "('M','N'):60,\n",
        "('M','S'):192,\n",
        "('M','P'):97,\n",
        "('N','P'):67,\n",
        "('N','O'):217,\n",
        "('O','P'):157,\n",
        "('O','Q'):60,\n",
        "('O','U'):175,\n",
        "('P','R'):77,\n",
        "('R','S'):133,\n",
        "('R','U'):75,\n",
        "('S','W'):201,\n",
        "('S','X'):101,\n",
        "('T','Y'):42,\n",
        "('U','V'):117,\n",
        "('U','W'):101,\n",
        "('V','Y'):56,\n",
        "('W','X'):230,\n",
        "('W','AA'):79,\n",
        "('X','W'):230,\n",
        "('Y','Z'):37,\n",
        "('Z','AA'):131,\n",
        "('B','A'):267,\n",
        "('C','A'):321,\n",
        "('E','A'):159,\n",
        "('E','B'):231,\n",
        "('G','B'):167,\n",
        "('K','C'):254,\n",
        "('D','C'):216,\n",
        "('F','D'):120,\n",
        "('E','D'):70,\n",
        "('G','F'):170,\n",
        "('I','F'):76,\n",
        "('H','G'):181,\n",
        "('J','H'):131,\n",
        "('J','I'):67,\n",
        "('L','I'):148,\n",
        "('M','J'):93,\n",
        "('N','J'):44,\n",
        "('L','K'):58,\n",
        "('I','L'):148,\n",
        "('N','L'):161,\n",
        "('O','L'):105,\n",
        "('N','M'):60,\n",
        "('S','M'):192,\n",
        "('P','M'):97,\n",
        "('P','N'):67,\n",
        "('O','N'):217,\n",
        "('P','O'):157,\n",
        "('Q','O'):60,\n",
        "('U','O'):175,\n",
        "('R','P'):77,\n",
        "('S','R'):133,\n",
        "('U','R'):75,\n",
        "('W','S'):201,\n",
        "('X','S'):101,\n",
        "('Y','T'):42,\n",
        "('V','U'):117,\n",
        "('W','U'):101,\n",
        "('Y','V'):56,\n",
        "('X','W'):230,\n",
        "('AA','W'):79,\n",
        "('W','X'):230,\n",
        "('Z','Y'):37,\n",
        "('AA','Z'):131,\n",
        "}\n",
        "\n",
        "#cost of stations:\n",
        "cost =  {'A' :51138, 'B' :35427, 'C' :99794, 'D' :102517, 'E' :94415, 'F' :75538, 'G' :56964, 'H' :147217, 'I' :67104, 'J' :71847, 'K' :86912, 'L' :86465, 'M' :166565, 'N' :88811, 'O' :171393, 'P' :116511, 'Q' :348047, 'R' :269207, 'S' :22297, 'T' :148218, 'U' :107293, 'V' :181531, 'W' :99033, 'X' :50193, 'Y' :465524, 'Z' :107870, 'AA' :104445}\n",
        "# get shortest distance between A-E as test \n",
        "shortest = dijsktra(graph, 'A', 'C')\n",
        "print(shortest)\n",
        "\n",
        "\n",
        "#distance of shortest path\n",
        "def distance(shortest):\n",
        "  distance = 0\n",
        "  for i in range(len(shortest)-1):\n",
        "   temp =  distances.get((shortest[i],shortest[i+1]))\n",
        "   distance = distance + temp\n",
        "  return distance\n",
        "distance(shortest)"
      ],
      "execution_count": null,
      "outputs": [
        {
          "output_type": "stream",
          "name": "stdout",
          "text": [
            "['A', 'C']\n"
          ]
        },
        {
          "output_type": "execute_result",
          "data": {
            "text/plain": [
              "321"
            ]
          },
          "metadata": {},
          "execution_count": 560
        }
      ]
    },
    {
      "cell_type": "code",
      "metadata": {
        "colab": {
          "base_uri": "https://localhost:8080/"
        },
        "id": "NAFOPRRPa_KM",
        "outputId": "4c360405-d598-4ed0-a517-6f7152c2faa8"
      },
      "source": [
        "\n",
        "\n",
        "# range of EV\n",
        "R = 400\n",
        "\n",
        "#Candidate stations\n",
        "#Candidate = [] #all possible solutions\n",
        "Solution = []\n",
        "#get candidate list\n",
        "def get_Can_list(path):\n",
        "  shortest = path\n",
        "  sum_distance = 0\n",
        "  i=0\n",
        "  R = 400\n",
        "  Solution = []\n",
        "  while i in range(len(shortest)-1):\n",
        "    start = 0\n",
        "    arc =  distances.get((shortest[i],shortest[i+1])) \n",
        "    R = R - arc\n",
        "    if R == 0:\n",
        "      #if shortest[i+1] not in Candidate:\n",
        "        #Candidate.append(shortest[i+1])\n",
        "        Solution.append(shortest[i+1])\n",
        "        R = 400\n",
        "      # print(i)\n",
        "    if R < 0:\n",
        "      #if shortest[i] not in Candidate:\n",
        "       #Candidate.append(shortest[i])\n",
        "       Solution.append(shortest[i])\n",
        "       R = 400 - arc\n",
        "       i = i+1    \n",
        "      # print(i)     \n",
        "    else:\n",
        "      #do nothing\n",
        "      i = i + 1\n",
        "  #print(Candidate)\n",
        "  return Solution\n",
        "\n",
        "#testing a route to see if the functions work properly\n",
        "path_test = dijsktra(graph, 'A', 'J')\n",
        "print(path_test)\n",
        "get_Can_list(path_test)\n",
        "#print(Candidate)\n",
        "\n",
        "# number of stations needed in a shortest path, starting with full battery R, (distance - R)/R\n",
        "num_stations = (distance(path_test) - R)/R\n",
        "\n",
        "#round up\n",
        "num_stations = math.ceil(num_stations)\n",
        "print(\"STATIONS needed:\",num_stations)\n"
      ],
      "execution_count": null,
      "outputs": [
        {
          "output_type": "stream",
          "name": "stdout",
          "text": [
            "['A', 'E', 'D', 'F', 'I', 'J']\n",
            "STATIONS needed: 1\n"
          ]
        }
      ]
    },
    {
      "cell_type": "code",
      "metadata": {
        "id": "eIkI51eecRC9",
        "colab": {
          "base_uri": "https://localhost:8080/"
        },
        "outputId": "6a8647e1-6acd-4103-e218-28be67426a93"
      },
      "source": [
        "\n",
        "#start of the actual calculation\n",
        "start_time = timeit.default_timer()\n",
        "\n",
        "\n",
        "# Shortest path without limit m\n",
        "\n",
        "nodes = [ 'A', 'B', 'C', 'D', 'E', 'F', 'G', 'H', 'I', 'J', 'K', 'L', 'M', 'N', 'O', 'P', 'Q', 'R', 'S', 'T', 'U', 'V', 'W', 'X', 'Y', 'Z', 'AA']\n",
        "\n",
        "#create empty array for shortest paths\n",
        "paths = []\n",
        "#path_solutions = {}\n",
        "Candidate = []\n",
        "# iterate all m paths, append shortest path to the paths array\n",
        "for i in range(len(nodes)):\n",
        "  start = nodes[i]\n",
        "  for i in range(len(nodes)):\n",
        "    if nodes[i] != start:\n",
        "      end = nodes[i]\n",
        "      shortest = dijsktra(graph, start, end)\n",
        "      #check if shortest path is longer than the range of EV then add to list\n",
        "      if distance(shortest) > R:\n",
        "        paths.append(dijsktra(graph, start, end))\n",
        "        #solution = \n",
        "        Candidate.append(get_Can_list(dijsktra(graph, start, end)))\n",
        "        #path_solutions[i] = solution\n",
        "      #print(dijsktra(graph, start, end))\n",
        "\n",
        "print(\"Number of shortest paths with distance greater than Range R: \",len(paths))\n",
        "candidate_set = []\n",
        "for c in Candidate:\n",
        "  for element in c:\n",
        "    candidate_set.append(element)\n",
        "\n",
        "#unique_candidate = set(Candidate)\n",
        "unique_candidate = set(candidate_set)\n",
        "print(\"SOLUTION TO THIS PROBLEM\",unique_candidate)\n",
        "#print(path_solutions)\n",
        "print()"
      ],
      "execution_count": null,
      "outputs": [
        {
          "output_type": "stream",
          "name": "stdout",
          "text": [
            "Number of shortest paths with distance greater than Range R:  334\n",
            "SOLUTION TO THIS PROBLEM {'W', 'G', 'M', 'J', 'K', 'N', 'V', 'I', 'F', 'B', 'AA', 'H', 'O', 'Y', 'C', 'E', 'L', 'S', 'P', 'R', 'D', 'U'}\n",
            "\n"
          ]
        }
      ]
    },
    {
      "cell_type": "code",
      "metadata": {
        "colab": {
          "base_uri": "https://localhost:8080/"
        },
        "id": "Dk-8DkP98uXE",
        "outputId": "9810b396-b014-40c7-ad6b-427d477f21cb"
      },
      "source": [
        "#get cost:\n",
        "c = 0\n",
        "\n",
        "for s in unique_candidate:\n",
        "  c = c + cost.get(s)\n",
        "\n",
        "print(c)\n",
        "\n",
        "\n",
        "#computation time\n",
        "stop = timeit.default_timer()\n",
        "time = stop- start_time\n",
        "print('Run Time: ', time)  "
      ],
      "execution_count": null,
      "outputs": [
        {
          "output_type": "stream",
          "name": "stdout",
          "text": [
            "2716810\n",
            "Run Time:  0.12931593399844132\n"
          ]
        }
      ]
    },
    {
      "cell_type": "code",
      "metadata": {
        "id": "kXAPFvVYtL3t"
      },
      "source": [
        " "
      ],
      "execution_count": null,
      "outputs": []
    },
    {
      "cell_type": "code",
      "metadata": {
        "colab": {
          "base_uri": "https://localhost:8080/"
        },
        "id": "R6YBTFi5a1cr",
        "outputId": "b5194d16-7ae5-4a75-f80c-cb7e30af0147"
      },
      "source": [
        "path_index = {}\n",
        "count = 0\n",
        "\n",
        "for p in paths:\n",
        "    path_index[count] = p\n",
        "    count = count +1\n",
        "print(path_index) \n",
        "\n"
      ],
      "execution_count": null,
      "outputs": [
        {
          "output_type": "stream",
          "name": "stdout",
          "text": [
            "{0: ['A', 'B', 'G'], 1: ['A', 'B', 'G', 'H'], 2: ['A', 'E', 'D', 'F', 'I'], 3: ['A', 'E', 'D', 'F', 'I', 'J'], 4: ['A', 'C', 'K'], 5: ['A', 'E', 'D', 'F', 'I', 'L'], 6: ['A', 'E', 'D', 'F', 'I', 'J', 'M'], 7: ['A', 'E', 'D', 'F', 'I', 'J', 'N'], 8: ['A', 'E', 'D', 'F', 'I', 'L', 'O'], 9: ['A', 'E', 'D', 'F', 'I', 'J', 'N', 'P'], 10: ['A', 'E', 'D', 'F', 'I', 'L', 'O', 'Q'], 11: ['A', 'E', 'D', 'F', 'I', 'J', 'N', 'P', 'R'], 12: ['A', 'E', 'D', 'F', 'I', 'J', 'M', 'S'], 13: ['A', 'E', 'D', 'F', 'I', 'J', 'N', 'P', 'R', 'U', 'V', 'Y', 'T'], 14: ['A', 'E', 'D', 'F', 'I', 'J', 'N', 'P', 'R', 'U'], 15: ['A', 'E', 'D', 'F', 'I', 'J', 'N', 'P', 'R', 'U', 'V'], 16: ['A', 'E', 'D', 'F', 'I', 'J', 'N', 'P', 'R', 'U', 'W'], 17: ['A', 'E', 'D', 'F', 'I', 'J', 'M', 'S', 'X'], 18: ['A', 'E', 'D', 'F', 'I', 'J', 'N', 'P', 'R', 'U', 'V', 'Y'], 19: ['A', 'E', 'D', 'F', 'I', 'J', 'N', 'P', 'R', 'U', 'V', 'Y', 'Z'], 20: ['A', 'E', 'D', 'F', 'I', 'J', 'N', 'P', 'R', 'U', 'W', 'AA'], 21: ['B', 'E', 'D', 'C'], 22: ['B', 'G', 'F', 'I'], 23: ['B', 'G', 'H', 'J'], 24: ['B', 'G', 'F', 'I', 'L', 'K'], 25: ['B', 'G', 'F', 'I', 'L'], 26: ['B', 'G', 'H', 'J', 'M'], 27: ['B', 'G', 'H', 'J', 'N'], 28: ['B', 'G', 'F', 'I', 'L', 'O'], 29: ['B', 'G', 'H', 'J', 'N', 'P'], 30: ['B', 'G', 'F', 'I', 'L', 'O', 'Q'], 31: ['B', 'G', 'H', 'J', 'N', 'P', 'R'], 32: ['B', 'G', 'H', 'J', 'M', 'S'], 33: ['B', 'G', 'H', 'J', 'N', 'P', 'R', 'U', 'V', 'Y', 'T'], 34: ['B', 'G', 'H', 'J', 'N', 'P', 'R', 'U'], 35: ['B', 'G', 'H', 'J', 'N', 'P', 'R', 'U', 'V'], 36: ['B', 'G', 'H', 'J', 'N', 'P', 'R', 'U', 'W'], 37: ['B', 'G', 'H', 'J', 'M', 'S', 'X'], 38: ['B', 'G', 'H', 'J', 'N', 'P', 'R', 'U', 'V', 'Y'], 39: ['B', 'G', 'H', 'J', 'N', 'P', 'R', 'U', 'V', 'Y', 'Z'], 40: ['B', 'G', 'H', 'J', 'N', 'P', 'R', 'U', 'W', 'AA'], 41: ['C', 'D', 'E', 'B'], 42: ['C', 'D', 'F', 'G'], 43: ['C', 'D', 'F', 'I', 'J', 'H'], 44: ['C', 'D', 'F', 'I'], 45: ['C', 'D', 'F', 'I', 'J'], 46: ['C', 'K', 'L', 'N', 'M'], 47: ['C', 'K', 'L', 'N'], 48: ['C', 'K', 'L', 'O'], 49: ['C', 'K', 'L', 'N', 'P'], 50: ['C', 'K', 'L', 'O', 'Q'], 51: ['C', 'K', 'L', 'N', 'P', 'R'], 52: ['C', 'K', 'L', 'N', 'M', 'S'], 53: ['C', 'K', 'L', 'O', 'U', 'V', 'Y', 'T'], 54: ['C', 'K', 'L', 'O', 'U'], 55: ['C', 'K', 'L', 'O', 'U', 'V'], 56: ['C', 'K', 'L', 'O', 'U', 'W'], 57: ['C', 'K', 'L', 'N', 'M', 'S', 'X'], 58: ['C', 'K', 'L', 'O', 'U', 'V', 'Y'], 59: ['C', 'K', 'L', 'O', 'U', 'V', 'Y', 'Z'], 60: ['C', 'K', 'L', 'O', 'U', 'W', 'AA'], 61: ['D', 'F', 'I', 'L', 'K'], 62: ['D', 'F', 'I', 'L', 'O'], 63: ['D', 'F', 'I', 'L', 'O', 'Q'], 64: ['D', 'F', 'I', 'J', 'N', 'P', 'R'], 65: ['D', 'F', 'I', 'J', 'M', 'S'], 66: ['D', 'F', 'I', 'J', 'N', 'P', 'R', 'U', 'V', 'Y', 'T'], 67: ['D', 'F', 'I', 'J', 'N', 'P', 'R', 'U'], 68: ['D', 'F', 'I', 'J', 'N', 'P', 'R', 'U', 'V'], 69: ['D', 'F', 'I', 'J', 'N', 'P', 'R', 'U', 'W'], 70: ['D', 'F', 'I', 'J', 'M', 'S', 'X'], 71: ['D', 'F', 'I', 'J', 'N', 'P', 'R', 'U', 'V', 'Y'], 72: ['D', 'F', 'I', 'J', 'N', 'P', 'R', 'U', 'V', 'Y', 'Z'], 73: ['D', 'F', 'I', 'J', 'N', 'P', 'R', 'U', 'W', 'AA'], 74: ['E', 'D', 'F', 'I', 'J', 'H'], 75: ['E', 'D', 'F', 'I', 'L', 'K'], 76: ['E', 'D', 'F', 'I', 'L'], 77: ['E', 'D', 'F', 'I', 'J', 'M'], 78: ['E', 'D', 'F', 'I', 'L', 'O'], 79: ['E', 'D', 'F', 'I', 'J', 'N', 'P'], 80: ['E', 'D', 'F', 'I', 'L', 'O', 'Q'], 81: ['E', 'D', 'F', 'I', 'J', 'N', 'P', 'R'], 82: ['E', 'D', 'F', 'I', 'J', 'M', 'S'], 83: ['E', 'D', 'F', 'I', 'J', 'N', 'P', 'R', 'U', 'V', 'Y', 'T'], 84: ['E', 'D', 'F', 'I', 'J', 'N', 'P', 'R', 'U'], 85: ['E', 'D', 'F', 'I', 'J', 'N', 'P', 'R', 'U', 'V'], 86: ['E', 'D', 'F', 'I', 'J', 'N', 'P', 'R', 'U', 'W'], 87: ['E', 'D', 'F', 'I', 'J', 'M', 'S', 'X'], 88: ['E', 'D', 'F', 'I', 'J', 'N', 'P', 'R', 'U', 'V', 'Y'], 89: ['E', 'D', 'F', 'I', 'J', 'N', 'P', 'R', 'U', 'V', 'Y', 'Z'], 90: ['E', 'D', 'F', 'I', 'J', 'N', 'P', 'R', 'U', 'W', 'AA'], 91: ['F', 'I', 'J', 'M', 'S'], 92: ['F', 'I', 'J', 'N', 'P', 'R', 'U', 'V', 'Y', 'T'], 93: ['F', 'I', 'J', 'N', 'P', 'R', 'U'], 94: ['F', 'I', 'J', 'N', 'P', 'R', 'U', 'V'], 95: ['F', 'I', 'J', 'N', 'P', 'R', 'U', 'W'], 96: ['F', 'I', 'J', 'M', 'S', 'X'], 97: ['F', 'I', 'J', 'N', 'P', 'R', 'U', 'V', 'Y'], 98: ['F', 'I', 'J', 'N', 'P', 'R', 'U', 'V', 'Y', 'Z'], 99: ['F', 'I', 'J', 'N', 'P', 'R', 'U', 'W', 'AA'], 100: ['G', 'B', 'A'], 101: ['G', 'F', 'D', 'C'], 102: ['G', 'F', 'I', 'L', 'K'], 103: ['G', 'H', 'J', 'M'], 104: ['G', 'F', 'I', 'L', 'O'], 105: ['G', 'H', 'J', 'N', 'P'], 106: ['G', 'F', 'I', 'L', 'O', 'Q'], 107: ['G', 'H', 'J', 'N', 'P', 'R'], 108: ['G', 'H', 'J', 'M', 'S'], 109: ['G', 'H', 'J', 'N', 'P', 'R', 'U', 'V', 'Y', 'T'], 110: ['G', 'H', 'J', 'N', 'P', 'R', 'U'], 111: ['G', 'H', 'J', 'N', 'P', 'R', 'U', 'V'], 112: ['G', 'H', 'J', 'N', 'P', 'R', 'U', 'W'], 113: ['G', 'H', 'J', 'M', 'S', 'X'], 114: ['G', 'H', 'J', 'N', 'P', 'R', 'U', 'V', 'Y'], 115: ['G', 'H', 'J', 'N', 'P', 'R', 'U', 'V', 'Y', 'Z'], 116: ['G', 'H', 'J', 'N', 'P', 'R', 'U', 'W', 'AA'], 117: ['H', 'G', 'B', 'A'], 118: ['H', 'J', 'I', 'F', 'D', 'C'], 119: ['H', 'J', 'I', 'F', 'D', 'E'], 120: ['H', 'J', 'N', 'O', 'Q'], 121: ['H', 'J', 'M', 'S'], 122: ['H', 'J', 'N', 'P', 'R', 'U', 'V', 'Y', 'T'], 123: ['H', 'J', 'N', 'P', 'R', 'U', 'V'], 124: ['H', 'J', 'N', 'P', 'R', 'U', 'W'], 125: ['H', 'J', 'M', 'S', 'X'], 126: ['H', 'J', 'N', 'P', 'R', 'U', 'V', 'Y'], 127: ['H', 'J', 'N', 'P', 'R', 'U', 'V', 'Y', 'Z'], 128: ['H', 'J', 'N', 'P', 'R', 'U', 'W', 'AA'], 129: ['I', 'F', 'D', 'E', 'A'], 130: ['I', 'F', 'G', 'B'], 131: ['I', 'F', 'D', 'C'], 132: ['I', 'J', 'N', 'P', 'R', 'U', 'V', 'Y', 'T'], 133: ['I', 'J', 'N', 'P', 'R', 'U', 'V'], 134: ['I', 'J', 'N', 'P', 'R', 'U', 'W'], 135: ['I', 'J', 'M', 'S', 'X'], 136: ['I', 'J', 'N', 'P', 'R', 'U', 'V', 'Y'], 137: ['I', 'J', 'N', 'P', 'R', 'U', 'V', 'Y', 'Z'], 138: ['I', 'J', 'N', 'P', 'R', 'U', 'W', 'AA'], 139: ['J', 'I', 'F', 'D', 'E', 'A'], 140: ['J', 'H', 'G', 'B'], 141: ['J', 'I', 'F', 'D', 'C'], 142: ['J', 'N', 'P', 'R', 'U', 'V', 'Y', 'T'], 143: ['J', 'N', 'P', 'R', 'U', 'V', 'Y'], 144: ['J', 'N', 'P', 'R', 'U', 'V', 'Y', 'Z'], 145: ['J', 'N', 'P', 'R', 'U', 'W', 'AA'], 146: ['K', 'C', 'A'], 147: ['K', 'L', 'I', 'F', 'G', 'B'], 148: ['K', 'L', 'I', 'F', 'D'], 149: ['K', 'L', 'I', 'F', 'D', 'E'], 150: ['K', 'L', 'I', 'F', 'G'], 151: ['K', 'L', 'N', 'M', 'S'], 152: ['K', 'L', 'O', 'U', 'V', 'Y', 'T'], 153: ['K', 'L', 'O', 'U', 'V'], 154: ['K', 'L', 'O', 'U', 'W'], 155: ['K', 'L', 'N', 'M', 'S', 'X'], 156: ['K', 'L', 'O', 'U', 'V', 'Y'], 157: ['K', 'L', 'O', 'U', 'V', 'Y', 'Z'], 158: ['K', 'L', 'O', 'U', 'W', 'AA'], 159: ['L', 'I', 'F', 'D', 'E', 'A'], 160: ['L', 'I', 'F', 'G', 'B'], 161: ['L', 'I', 'F', 'D', 'E'], 162: ['L', 'N', 'M', 'S'], 163: ['L', 'O', 'U', 'V', 'Y', 'T'], 164: ['L', 'N', 'M', 'S', 'X'], 165: ['L', 'O', 'U', 'V', 'Y'], 166: ['L', 'O', 'U', 'V', 'Y', 'Z'], 167: ['L', 'O', 'U', 'W', 'AA'], 168: ['M', 'J', 'I', 'F', 'D', 'E', 'A'], 169: ['M', 'J', 'H', 'G', 'B'], 170: ['M', 'N', 'L', 'K', 'C'], 171: ['M', 'J', 'I', 'F', 'D', 'E'], 172: ['M', 'J', 'H', 'G'], 173: ['M', 'P', 'R', 'U', 'V', 'Y', 'T'], 174: ['M', 'P', 'R', 'U', 'V', 'Y'], 175: ['M', 'P', 'R', 'U', 'V', 'Y', 'Z'], 176: ['M', 'P', 'R', 'U', 'W', 'AA'], 177: ['N', 'J', 'I', 'F', 'D', 'E', 'A'], 178: ['N', 'J', 'H', 'G', 'B'], 179: ['N', 'L', 'K', 'C'], 180: ['N', 'P', 'R', 'U', 'V', 'Y', 'T'], 181: ['N', 'P', 'R', 'U', 'V', 'Y', 'Z'], 182: ['O', 'L', 'I', 'F', 'D', 'E', 'A'], 183: ['O', 'L', 'I', 'F', 'G', 'B'], 184: ['O', 'L', 'K', 'C'], 185: ['O', 'L', 'I', 'F', 'D'], 186: ['O', 'L', 'I', 'F', 'D', 'E'], 187: ['O', 'L', 'I', 'F', 'G'], 188: ['O', 'P', 'R', 'S', 'X'], 189: ['P', 'N', 'J', 'I', 'F', 'D', 'E', 'A'], 190: ['P', 'N', 'J', 'H', 'G', 'B'], 191: ['P', 'N', 'L', 'K', 'C'], 192: ['P', 'N', 'J', 'I', 'F', 'D', 'E'], 193: ['P', 'N', 'J', 'H', 'G'], 194: ['Q', 'O', 'L', 'I', 'F', 'D', 'E', 'A'], 195: ['Q', 'O', 'L', 'I', 'F', 'G', 'B'], 196: ['Q', 'O', 'L', 'K', 'C'], 197: ['Q', 'O', 'L', 'I', 'F', 'D'], 198: ['Q', 'O', 'L', 'I', 'F', 'D', 'E'], 199: ['Q', 'O', 'L', 'I', 'F', 'G'], 200: ['Q', 'O', 'N', 'J', 'H'], 201: ['Q', 'O', 'P', 'R', 'S'], 202: ['Q', 'O', 'U', 'V', 'Y', 'T'], 203: ['Q', 'O', 'P', 'R', 'S', 'X'], 204: ['Q', 'O', 'U', 'V', 'Y'], 205: ['Q', 'O', 'U', 'V', 'Y', 'Z'], 206: ['Q', 'O', 'U', 'W', 'AA'], 207: ['R', 'P', 'N', 'J', 'I', 'F', 'D', 'E', 'A'], 208: ['R', 'P', 'N', 'J', 'H', 'G', 'B'], 209: ['R', 'P', 'N', 'L', 'K', 'C'], 210: ['R', 'P', 'N', 'J', 'I', 'F', 'D'], 211: ['R', 'P', 'N', 'J', 'I', 'F', 'D', 'E'], 212: ['R', 'P', 'N', 'J', 'H', 'G'], 213: ['S', 'M', 'J', 'I', 'F', 'D', 'E', 'A'], 214: ['S', 'M', 'J', 'H', 'G', 'B'], 215: ['S', 'M', 'N', 'L', 'K', 'C'], 216: ['S', 'M', 'J', 'I', 'F', 'D'], 217: ['S', 'M', 'J', 'I', 'F', 'D', 'E'], 218: ['S', 'M', 'J', 'I', 'F'], 219: ['S', 'M', 'J', 'H', 'G'], 220: ['S', 'M', 'J', 'H'], 221: ['S', 'M', 'N', 'L', 'K'], 222: ['S', 'M', 'N', 'L'], 223: ['S', 'R', 'P', 'O', 'Q'], 224: ['S', 'R', 'U', 'V', 'Y', 'T'], 225: ['S', 'W', 'AA', 'Z'], 226: ['T', 'Y', 'V', 'U', 'R', 'P', 'N', 'J', 'I', 'F', 'D', 'E', 'A'], 227: ['T', 'Y', 'V', 'U', 'R', 'P', 'N', 'J', 'H', 'G', 'B'], 228: ['T', 'Y', 'V', 'U', 'O', 'L', 'K', 'C'], 229: ['T', 'Y', 'V', 'U', 'R', 'P', 'N', 'J', 'I', 'F', 'D'], 230: ['T', 'Y', 'V', 'U', 'R', 'P', 'N', 'J', 'I', 'F', 'D', 'E'], 231: ['T', 'Y', 'V', 'U', 'R', 'P', 'N', 'J', 'I', 'F'], 232: ['T', 'Y', 'V', 'U', 'R', 'P', 'N', 'J', 'H', 'G'], 233: ['T', 'Y', 'V', 'U', 'R', 'P', 'N', 'J', 'H'], 234: ['T', 'Y', 'V', 'U', 'R', 'P', 'N', 'J', 'I'], 235: ['T', 'Y', 'V', 'U', 'R', 'P', 'N', 'J'], 236: ['T', 'Y', 'V', 'U', 'O', 'L', 'K'], 237: ['T', 'Y', 'V', 'U', 'O', 'L'], 238: ['T', 'Y', 'V', 'U', 'R', 'P', 'M'], 239: ['T', 'Y', 'V', 'U', 'R', 'P', 'N'], 240: ['T', 'Y', 'V', 'U', 'O', 'Q'], 241: ['T', 'Y', 'V', 'U', 'R', 'S'], 242: ['T', 'Y', 'Z', 'AA', 'W', 'X'], 243: ['U', 'R', 'P', 'N', 'J', 'I', 'F', 'D', 'E', 'A'], 244: ['U', 'R', 'P', 'N', 'J', 'H', 'G', 'B'], 245: ['U', 'O', 'L', 'K', 'C'], 246: ['U', 'R', 'P', 'N', 'J', 'I', 'F', 'D'], 247: ['U', 'R', 'P', 'N', 'J', 'I', 'F', 'D', 'E'], 248: ['U', 'R', 'P', 'N', 'J', 'I', 'F'], 249: ['U', 'R', 'P', 'N', 'J', 'H', 'G'], 250: ['V', 'U', 'R', 'P', 'N', 'J', 'I', 'F', 'D', 'E', 'A'], 251: ['V', 'U', 'R', 'P', 'N', 'J', 'H', 'G', 'B'], 252: ['V', 'U', 'O', 'L', 'K', 'C'], 253: ['V', 'U', 'R', 'P', 'N', 'J', 'I', 'F', 'D'], 254: ['V', 'U', 'R', 'P', 'N', 'J', 'I', 'F', 'D', 'E'], 255: ['V', 'U', 'R', 'P', 'N', 'J', 'I', 'F'], 256: ['V', 'U', 'R', 'P', 'N', 'J', 'H', 'G'], 257: ['V', 'U', 'R', 'P', 'N', 'J', 'H'], 258: ['V', 'U', 'R', 'P', 'N', 'J', 'I'], 259: ['V', 'U', 'O', 'L', 'K'], 260: ['V', 'U', 'R', 'S', 'X'], 261: ['W', 'U', 'R', 'P', 'N', 'J', 'I', 'F', 'D', 'E', 'A'], 262: ['W', 'U', 'R', 'P', 'N', 'J', 'H', 'G', 'B'], 263: ['W', 'U', 'O', 'L', 'K', 'C'], 264: ['W', 'U', 'R', 'P', 'N', 'J', 'I', 'F', 'D'], 265: ['W', 'U', 'R', 'P', 'N', 'J', 'I', 'F', 'D', 'E'], 266: ['W', 'U', 'R', 'P', 'N', 'J', 'I', 'F'], 267: ['W', 'U', 'R', 'P', 'N', 'J', 'H', 'G'], 268: ['W', 'U', 'R', 'P', 'N', 'J', 'H'], 269: ['W', 'U', 'R', 'P', 'N', 'J', 'I'], 270: ['W', 'U', 'O', 'L', 'K'], 271: ['X', 'S', 'M', 'J', 'I', 'F', 'D', 'E', 'A'], 272: ['X', 'S', 'M', 'J', 'H', 'G', 'B'], 273: ['X', 'S', 'M', 'N', 'L', 'K', 'C'], 274: ['X', 'S', 'M', 'J', 'I', 'F', 'D'], 275: ['X', 'S', 'M', 'J', 'I', 'F', 'D', 'E'], 276: ['X', 'S', 'M', 'J', 'I', 'F'], 277: ['X', 'S', 'M', 'J', 'H', 'G'], 278: ['X', 'S', 'M', 'J', 'H'], 279: ['X', 'S', 'M', 'J', 'I'], 280: ['X', 'S', 'M', 'N', 'L', 'K'], 281: ['X', 'S', 'M', 'N', 'L'], 282: ['X', 'S', 'R', 'P', 'O'], 283: ['X', 'S', 'R', 'P', 'O', 'Q'], 284: ['X', 'W', 'AA', 'Z', 'Y', 'T'], 285: ['X', 'S', 'R', 'U', 'V'], 286: ['X', 'W', 'AA', 'Z', 'Y'], 287: ['X', 'W', 'AA', 'Z'], 288: ['Y', 'V', 'U', 'R', 'P', 'N', 'J', 'I', 'F', 'D', 'E', 'A'], 289: ['Y', 'V', 'U', 'R', 'P', 'N', 'J', 'H', 'G', 'B'], 290: ['Y', 'V', 'U', 'O', 'L', 'K', 'C'], 291: ['Y', 'V', 'U', 'R', 'P', 'N', 'J', 'I', 'F', 'D'], 292: ['Y', 'V', 'U', 'R', 'P', 'N', 'J', 'I', 'F', 'D', 'E'], 293: ['Y', 'V', 'U', 'R', 'P', 'N', 'J', 'I', 'F'], 294: ['Y', 'V', 'U', 'R', 'P', 'N', 'J', 'H', 'G'], 295: ['Y', 'V', 'U', 'R', 'P', 'N', 'J', 'H'], 296: ['Y', 'V', 'U', 'R', 'P', 'N', 'J', 'I'], 297: ['Y', 'V', 'U', 'R', 'P', 'N', 'J'], 298: ['Y', 'V', 'U', 'O', 'L', 'K'], 299: ['Y', 'V', 'U', 'O', 'L'], 300: ['Y', 'V', 'U', 'R', 'P', 'M'], 301: ['Y', 'V', 'U', 'O', 'Q'], 302: ['Y', 'Z', 'AA', 'W', 'X'], 303: ['Z', 'Y', 'V', 'U', 'R', 'P', 'N', 'J', 'I', 'F', 'D', 'E', 'A'], 304: ['Z', 'Y', 'V', 'U', 'R', 'P', 'N', 'J', 'H', 'G', 'B'], 305: ['Z', 'Y', 'V', 'U', 'O', 'L', 'K', 'C'], 306: ['Z', 'Y', 'V', 'U', 'R', 'P', 'N', 'J', 'I', 'F', 'D'], 307: ['Z', 'Y', 'V', 'U', 'R', 'P', 'N', 'J', 'I', 'F', 'D', 'E'], 308: ['Z', 'Y', 'V', 'U', 'R', 'P', 'N', 'J', 'I', 'F'], 309: ['Z', 'Y', 'V', 'U', 'R', 'P', 'N', 'J', 'H', 'G'], 310: ['Z', 'Y', 'V', 'U', 'R', 'P', 'N', 'J', 'H'], 311: ['Z', 'Y', 'V', 'U', 'R', 'P', 'N', 'J', 'I'], 312: ['Z', 'Y', 'V', 'U', 'R', 'P', 'N', 'J'], 313: ['Z', 'Y', 'V', 'U', 'O', 'L', 'K'], 314: ['Z', 'Y', 'V', 'U', 'O', 'L'], 315: ['Z', 'Y', 'V', 'U', 'R', 'P', 'M'], 316: ['Z', 'Y', 'V', 'U', 'R', 'P', 'N'], 317: ['Z', 'Y', 'V', 'U', 'O', 'Q'], 318: ['Z', 'AA', 'W', 'S'], 319: ['Z', 'AA', 'W', 'X'], 320: ['AA', 'W', 'U', 'R', 'P', 'N', 'J', 'I', 'F', 'D', 'E', 'A'], 321: ['AA', 'W', 'U', 'R', 'P', 'N', 'J', 'H', 'G', 'B'], 322: ['AA', 'W', 'U', 'O', 'L', 'K', 'C'], 323: ['AA', 'W', 'U', 'R', 'P', 'N', 'J', 'I', 'F', 'D'], 324: ['AA', 'W', 'U', 'R', 'P', 'N', 'J', 'I', 'F', 'D', 'E'], 325: ['AA', 'W', 'U', 'R', 'P', 'N', 'J', 'I', 'F'], 326: ['AA', 'W', 'U', 'R', 'P', 'N', 'J', 'H', 'G'], 327: ['AA', 'W', 'U', 'R', 'P', 'N', 'J', 'H'], 328: ['AA', 'W', 'U', 'R', 'P', 'N', 'J', 'I'], 329: ['AA', 'W', 'U', 'R', 'P', 'N', 'J'], 330: ['AA', 'W', 'U', 'O', 'L', 'K'], 331: ['AA', 'W', 'U', 'O', 'L'], 332: ['AA', 'W', 'U', 'R', 'P', 'M'], 333: ['AA', 'W', 'U', 'O', 'Q']}\n"
          ]
        }
      ]
    },
    {
      "cell_type": "code",
      "metadata": {
        "colab": {
          "base_uri": "https://localhost:8080/"
        },
        "id": "Lx2sojDPLrWt",
        "outputId": "bfd38783-3c3c-4a20-e452-445222396c87"
      },
      "source": [
        "path_solution = {}\n",
        "for i in range(len(path_index)):\n",
        "  last_index = len(path_index[i])\n",
        "  last_index = last_index\n",
        "  path_solution[i] = get_Can_list(dijsktra(graph,path_index[i][0] , path_index[i][last_index-1]))\n",
        "print(path_solution)"
      ],
      "execution_count": null,
      "outputs": [
        {
          "output_type": "stream",
          "name": "stdout",
          "text": [
            "{0: ['B'], 1: ['B'], 2: ['F'], 3: ['F'], 4: ['C'], 5: ['F'], 6: ['F'], 7: ['F'], 8: ['F'], 9: ['F'], 10: ['F'], 11: ['F'], 12: ['F', 'M'], 13: ['F', 'R'], 14: ['F', 'R'], 15: ['F', 'R'], 16: ['F', 'R'], 17: ['F', 'M'], 18: ['F', 'R'], 19: ['F', 'R'], 20: ['F', 'R'], 21: ['D'], 22: ['F'], 23: ['H'], 24: ['F'], 25: ['F'], 26: ['H'], 27: ['H'], 28: ['F'], 29: ['H'], 30: ['F'], 31: ['H'], 32: ['H', 'M'], 33: ['H', 'U'], 34: ['H'], 35: ['H', 'U'], 36: ['H', 'U'], 37: ['H', 'M'], 38: ['H', 'U'], 39: ['H', 'U'], 40: ['H', 'U'], 41: ['E'], 42: ['F'], 43: ['F'], 44: ['F'], 45: ['F'], 46: ['L'], 47: ['L'], 48: ['L'], 49: ['L'], 50: ['L'], 51: ['L'], 52: ['L', 'M'], 53: ['L', 'V'], 54: ['L'], 55: ['L'], 56: ['L'], 57: ['L', 'M'], 58: ['L', 'V'], 59: ['L', 'V'], 60: ['L', 'W'], 61: ['L'], 62: ['L'], 63: ['L'], 64: ['P'], 65: ['M'], 66: ['P'], 67: ['P'], 68: ['P'], 69: ['P'], 70: ['M'], 71: ['P'], 72: ['P'], 73: ['P'], 74: ['J'], 75: ['I'], 76: ['I'], 77: ['J'], 78: ['I'], 79: ['N'], 80: ['I'], 81: ['N'], 82: ['J'], 83: ['N', 'Y'], 84: ['N'], 85: ['N'], 86: ['N'], 87: ['J'], 88: ['N'], 89: ['N', 'Y'], 90: ['N'], 91: ['M'], 92: ['R'], 93: ['R'], 94: ['R'], 95: ['R'], 96: ['M'], 97: ['R'], 98: ['R'], 99: ['R'], 100: ['B'], 101: ['D'], 102: ['L'], 103: ['J'], 104: ['L'], 105: ['N'], 106: ['L'], 107: ['N'], 108: ['J'], 109: ['N', 'Y'], 110: ['N'], 111: ['N'], 112: ['N'], 113: ['J'], 114: ['N'], 115: ['N', 'Y'], 116: ['N'], 117: ['B'], 118: ['D'], 119: ['D'], 120: ['O'], 121: ['M'], 122: ['U'], 123: ['U'], 124: ['U'], 125: ['M'], 126: ['U'], 127: ['U'], 128: ['U'], 129: ['E'], 130: ['G'], 131: ['D'], 132: ['U'], 133: ['U'], 134: ['U'], 135: ['S'], 136: ['U'], 137: ['U'], 138: ['U'], 139: ['E'], 140: ['G'], 141: ['D'], 142: ['V'], 143: ['V'], 144: ['V'], 145: ['W'], 146: ['C'], 147: ['F'], 148: ['F'], 149: ['F'], 150: ['F'], 151: ['M'], 152: ['U'], 153: ['U'], 154: ['U'], 155: ['M'], 156: ['U'], 157: ['U'], 158: ['U'], 159: ['D'], 160: ['G'], 161: ['D'], 162: ['M'], 163: ['V'], 164: ['M'], 165: ['V'], 166: ['V'], 167: ['W'], 168: ['D'], 169: ['H'], 170: ['K'], 171: ['D'], 172: ['H'], 173: ['V'], 174: ['V'], 175: ['V'], 176: ['W'], 177: ['E'], 178: ['G'], 179: ['K'], 180: ['Y'], 181: ['Y'], 182: ['F'], 183: ['F'], 184: ['K'], 185: ['F'], 186: ['F'], 187: ['F'], 188: ['S'], 189: ['D'], 190: ['H'], 191: ['K'], 192: ['D'], 193: ['H'], 194: ['F'], 195: ['F'], 196: ['K'], 197: ['F'], 198: ['F'], 199: ['F'], 200: ['J'], 201: ['R'], 202: ['V'], 203: ['R'], 204: ['V'], 205: ['V'], 206: ['W'], 207: ['F'], 208: ['H'], 209: ['K'], 210: ['F'], 211: ['F'], 212: ['H'], 213: ['I', 'E'], 214: ['J', 'G'], 215: ['N', 'K'], 216: ['I'], 217: ['I'], 218: ['I'], 219: ['J'], 220: ['J'], 221: ['N'], 222: ['N'], 223: ['O'], 224: ['Y'], 225: ['AA'], 226: ['P', 'D'], 227: ['P', 'H'], 228: ['O', 'K'], 229: ['P'], 230: ['P', 'D'], 231: ['P'], 232: ['P', 'H'], 233: ['P'], 234: ['P'], 235: ['P'], 236: ['O'], 237: ['O'], 238: ['P'], 239: ['P'], 240: ['O'], 241: ['R'], 242: ['W'], 243: ['I', 'E'], 244: ['H'], 245: ['K'], 246: ['I'], 247: ['I'], 248: ['I'], 249: ['H'], 250: ['J', 'E'], 251: ['J', 'G'], 252: ['L'], 253: ['J'], 254: ['J'], 255: ['J'], 256: ['J'], 257: ['J'], 258: ['J'], 259: ['L'], 260: ['S'], 261: ['J', 'E'], 262: ['J', 'G'], 263: ['L'], 264: ['J'], 265: ['J'], 266: ['J'], 267: ['J'], 268: ['J'], 269: ['J'], 270: ['L'], 271: ['J', 'E'], 272: ['J', 'G'], 273: ['N', 'K'], 274: ['J'], 275: ['J'], 276: ['J'], 277: ['J'], 278: ['J'], 279: ['J'], 280: ['N'], 281: ['N'], 282: ['P'], 283: ['P'], 284: ['AA'], 285: ['U'], 286: ['AA'], 287: ['AA'], 288: ['N', 'E'], 289: ['N', 'G'], 290: ['O', 'K'], 291: ['N'], 292: ['N'], 293: ['N'], 294: ['N'], 295: ['N'], 296: ['N'], 297: ['N'], 298: ['O'], 299: ['O'], 300: ['P'], 301: ['O'], 302: ['W'], 303: ['P', 'D'], 304: ['P', 'H'], 305: ['O', 'K'], 306: ['P'], 307: ['P', 'D'], 308: ['P'], 309: ['P', 'H'], 310: ['P'], 311: ['P'], 312: ['P'], 313: ['O'], 314: ['O'], 315: ['P'], 316: ['P'], 317: ['O'], 318: ['W'], 319: ['W'], 320: ['N', 'E'], 321: ['N', 'G'], 322: ['O', 'K'], 323: ['N'], 324: ['N'], 325: ['N'], 326: ['N'], 327: ['N'], 328: ['N'], 329: ['N'], 330: ['O'], 331: ['O'], 332: ['P'], 333: ['O']}\n"
          ]
        }
      ]
    },
    {
      "cell_type": "code",
      "metadata": {
        "id": "9ii2pggPY9t9"
      },
      "source": [
        "#path = ['A', 'E', 'D']\n",
        "#solution = ['A', 'E']\n",
        "\n",
        "\n",
        "def simulated_annealing( path, solution):\n",
        "  start = path[0]\n",
        "  end = path[len(path)-1]\n",
        "  anneal_candidate = []\n",
        "  for s in solution:\n",
        "    ind_sol = solution.index(s)\n",
        "    ind = path.index(s)\n",
        "    distance = distances.get((s,path[ind -1]))\n",
        "    if ind_sol == len(solution)-1:\n",
        "      #print(way)\n",
        "      way1 = dijsktra(graph,s,path[len(path)-1])\n",
        "      for h in range(len(way1)-1):\n",
        "        #print(s,path[len(path)-1])\n",
        "        distance = distance + distances.get((way1[h], way1[h+1]))\n",
        "      #distance = distance + distances.get((s,path[len(path)-1])) #distance between the destination of the path and solution\n",
        "    else:\n",
        "      way = dijsktra(graph,s,solution[ind_sol+1])\n",
        "      #print(way)\n",
        "      for j in range(len(way)-1):\n",
        "        #print(distance)\n",
        "        #print(distances.get((way[j], way[j+1])))\n",
        "        distance = distance + distances.get((way[j], way[j+1]))\n",
        "    if distance <= R and (cost.get(path[ind-1]) < cost.get(s)):\n",
        "      #and (cost.get(path[ind-1]) < cost.get(s))\n",
        "      anneal_candidate.append(path[ind-1])\n",
        "    elif distance <= R and (cost.get(path[ind-1]) > cost.get(s)):\n",
        "      #probability thingy here - append or something idfk with a probability\n",
        "      #T = 0.4Zc\n",
        "      Zn = cost.get(path[ind-1])\n",
        "      Zc = cost.get(s)\n",
        "      T = 0.4*Zc\n",
        "      x = ((Zc-Zn)/T)\n",
        "      probability = math.exp(x)\n",
        "      if probability > 0.95:\n",
        "        anneal_candidate.append(path[ind-1])\n",
        "      else:\n",
        "        anneal_candidate.append(s)\n",
        "    else: \n",
        "      anneal_candidate.append(s)\n",
        "  return(anneal_candidate)\n"
      ],
      "execution_count": null,
      "outputs": []
    },
    {
      "cell_type": "code",
      "metadata": {
        "id": "KJQLFbfPaDBO"
      },
      "source": [
        ""
      ],
      "execution_count": null,
      "outputs": []
    },
    {
      "cell_type": "code",
      "metadata": {
        "id": "XEHw_N4gu2Ey",
        "colab": {
          "base_uri": "https://localhost:8080/"
        },
        "outputId": "7879b978-e254-4a5e-99a7-0da83cd653ee"
      },
      "source": [
        "annealing_candidates = []\n",
        "for g in range(len(path_index)-1):\n",
        "  #print(g)\n",
        "  #print(path_index.get(g))\n",
        "  #print(path_solution.get(g))\n",
        "  annealing_candidates.append(simulated_annealing(path_index.get(g),path_solution.get(g)))\n",
        "  #print(\"Done\")\n",
        "annealing_candidate_set = []\n",
        "for c in annealing_candidates:\n",
        "  for element in c:\n",
        "    annealing_candidate_set.append(element)\n",
        "    unique_candidate_annealing = set(annealing_candidate_set)\n",
        "print(\"SOLUTION TO THIS PROBLEM AFTER ANNEALING ARE:\",unique_candidate_annealing)      "
      ],
      "execution_count": null,
      "outputs": [
        {
          "output_type": "stream",
          "name": "stdout",
          "text": [
            "SOLUTION TO THIS PROBLEM AFTER ANNEALING ARE: {'W', 'G', 'M', 'J', 'K', 'N', 'V', 'I', 'F', 'B', 'AA', 'H', 'O', 'C', 'E', 'L', 'P', 'D', 'R', 'U'}\n"
          ]
        }
      ]
    },
    {
      "cell_type": "code",
      "metadata": {
        "id": "avLiP01a_HQ2",
        "colab": {
          "base_uri": "https://localhost:8080/"
        },
        "outputId": "55464e14-7c5d-4293-febb-1e0d096b20b8"
      },
      "source": [
        "ca = 0\n",
        "for v in unique_candidate_annealing:\n",
        "  ca = ca + cost.get(v)\n",
        "print(\"Cost After Annealing is: $\",ca)\n"
      ],
      "execution_count": null,
      "outputs": [
        {
          "output_type": "stream",
          "name": "stdout",
          "text": [
            "Cost After Annealing is: $ 2228989\n"
          ]
        }
      ]
    }
  ]
}